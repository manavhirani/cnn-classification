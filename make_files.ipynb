{
 "cells": [
  {
   "cell_type": "code",
   "execution_count": 1,
   "metadata": {},
   "outputs": [
    {
     "name": "stdout",
     "output_type": "stream",
     "text": [
      "        1       2       3       4       5       6       7       8       9  \\\n",
      "0  Type B  Type C  Type A  Type A  Type C  Type B  Type B  Type C  Type C   \n",
      "\n",
      "       10  \n",
      "0  Type C  \n"
     ]
    }
   ],
   "source": [
    "import pandas as pd\n",
    "actual = pd.read_csv('./data/actual_results/actual_types.csv')\n",
    "print(actual.head())\n",
    "columns = actual.columns"
   ]
  },
  {
   "cell_type": "code",
   "execution_count": null,
   "metadata": {},
   "outputs": [],
   "source": [
    "import pandas as pd\n",
    "cnn = pd.read_csv('./data/cnn_results/cnn_types.csv')\n",
    "print(cnn.head())\n",
    "columns2 = cnn.columns"
   ]
  },
  {
   "cell_type": "code",
   "execution_count": 10,
   "metadata": {},
   "outputs": [
    {
     "name": "stdout",
     "output_type": "stream",
     "text": [
      "'Type B', 'Type C', 'Type A', 'Type A', 'Type C', 'Type B', 'Type B', 'Type C', 'Type C', 'Type C', "
     ]
    }
   ],
   "source": [
    "for i in range(len(columns)):\n",
    "    f = open(f'./data/actual_results/{i+1}.txt', 'w')\n",
    "    print(f\"'{actual[columns[i]][0]}'\", end = ', ')"
   ]
  },
  {
   "cell_type": "code",
   "execution_count": null,
   "metadata": {},
   "outputs": [],
   "source": [
    "for i in range(len(columns2)):\n",
    "    f = open(f'./data/actual_results/{i+1}.txt', 'w')\n",
    "    print(f\"'{cnn[columns2[i]][0]}'\", end = ', ')"
   ]
  },
  {
   "cell_type": "code",
   "execution_count": 8,
   "metadata": {},
   "outputs": [],
   "source": [
    "actual.to_json('./data/actual_results/actual.json')"
   ]
  }
 ],
 "metadata": {
  "kernelspec": {
   "display_name": "Python 3",
   "language": "python",
   "name": "python3"
  },
  "language_info": {
   "codemirror_mode": {
    "name": "ipython",
    "version": 3
   },
   "file_extension": ".py",
   "mimetype": "text/x-python",
   "name": "python",
   "nbconvert_exporter": "python",
   "pygments_lexer": "ipython3",
   "version": "3.10.8"
  },
  "orig_nbformat": 4
 },
 "nbformat": 4,
 "nbformat_minor": 2
}
